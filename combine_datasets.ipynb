{
 "cells": [
  {
   "cell_type": "code",
   "execution_count": 3,
   "metadata": {},
   "outputs": [],
   "source": [
    "import pandas as pd\n",
    "import numpy as np\n",
    "\n",
    "feb19 = pd.read_csv('data/raw/19feb.csv')\n",
    "mar19 = pd.read_csv('data/raw/19march.csv')\n",
    "april19 = pd.read_csv('data/raw/19april.csv')\n",
    "may19 =  pd.read_csv('data/raw/19may.csv')\n",
    "june19 = pd.read_csv('data/raw/19june.csv')\n",
    "\n",
    "feb20 = pd.read_csv('data/raw/20feb.csv')\n",
    "mar20 = pd.read_csv('data/raw/20march.csv')\n",
    "april20 = pd.read_csv('data/raw/20april.csv')\n",
    "may20 = pd.read_csv('data/raw/20may.csv')\n",
    "june20 = pd.read_csv('data/raw/20june.csv')\n",
    "\n",
    "feb19tojune19 = pd.concat([feb19, mar19, april19, may19, june19], ignore_index=True)\n",
    "feb20tojune20 = pd.concat([feb20, mar20, april20, may20, june20], ignore_index=True)\n",
    "\n",
    "feb19tojune19.to_csv('data/comb/feb19tojune19.csv')\n",
    "feb20tojune20.to_csv('data/comb/feb20tojune20.csv')"
   ]
  },
  {
   "cell_type": "code",
   "execution_count": null,
   "metadata": {},
   "outputs": [],
   "source": []
  }
 ],
 "metadata": {
  "kernelspec": {
   "display_name": "Python 3",
   "language": "python",
   "name": "python3"
  },
  "language_info": {
   "codemirror_mode": {
    "name": "ipython",
    "version": 3
   },
   "file_extension": ".py",
   "mimetype": "text/x-python",
   "name": "python",
   "nbconvert_exporter": "python",
   "pygments_lexer": "ipython3",
   "version": "3.7.6"
  }
 },
 "nbformat": 4,
 "nbformat_minor": 4
}
